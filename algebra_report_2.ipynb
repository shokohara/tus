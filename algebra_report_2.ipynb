{
 "cells": [
  {
   "cell_type": "code",
   "execution_count": 1,
   "metadata": {},
   "outputs": [],
   "source": [
    "import sympy\n",
    "from sympy import *"
   ]
  },
  {
   "cell_type": "code",
   "execution_count": 2,
   "metadata": {},
   "outputs": [
    {
     "data": {
      "text/plain": [
       "(Matrix([\n",
       " [1, 0,  2, 0, 0],\n",
       " [0, 1, -1, 0, 0],\n",
       " [0, 0,  0, 1, 0]]), (0, 1, 3))"
      ]
     },
     "execution_count": 2,
     "metadata": {},
     "output_type": "execute_result"
    }
   ],
   "source": [
    "a = Matrix(\n",
    "    [[1,1,1,1,0],\n",
    "     [3,1,5,3,0],\n",
    "     [2,-3,7,0,0]])\n",
    "a.rref()"
   ]
  },
  {
   "cell_type": "code",
   "execution_count": 3,
   "metadata": {},
   "outputs": [
    {
     "data": {
      "text/plain": [
       "(Matrix([\n",
       " [1, 0,  8/5, 1, 0],\n",
       " [0, 1, -1/5, 0, 0],\n",
       " [0, 0,    0, 0, 1]]), (0, 1, 4))"
      ]
     },
     "execution_count": 3,
     "metadata": {},
     "output_type": "execute_result"
    }
   ],
   "source": [
    "a = Matrix(\n",
    "    [[1,3,1,1,1],\n",
    "     [2,1,3,2,-3],\n",
    "     [1,-2,2,1,2]])\n",
    "a.rref()"
   ]
  },
  {
   "cell_type": "code",
   "execution_count": 4,
   "metadata": {},
   "outputs": [
    {
     "data": {
      "text/plain": [
       "(Matrix([\n",
       " [1, -2, 0, 1, 2],\n",
       " [0,  0, 1, 1, 1],\n",
       " [0,  0, 0, 0, 0]]), (0, 2))"
      ]
     },
     "execution_count": 4,
     "metadata": {},
     "output_type": "execute_result"
    }
   ],
   "source": [
    "a = Matrix(\n",
    "    [[1,-2,1,2,3],\n",
    "     [-1,2,-1,-2,-3],\n",
    "     [2,-4,1,3,5]])\n",
    "a.rref()"
   ]
  },
  {
   "cell_type": "code",
   "execution_count": 5,
   "metadata": {},
   "outputs": [
    {
     "data": {
      "text/plain": [
       "(Matrix([\n",
       " [1, 0, -1, 0],\n",
       " [0, 1, -1, 0],\n",
       " [0, 0,  0, 0]]), (0, 1))"
      ]
     },
     "execution_count": 5,
     "metadata": {},
     "output_type": "execute_result"
    }
   ],
   "source": [
    "a = 0\n",
    "b = Matrix(\n",
    "    [[a,1,-1,0],\n",
    "     [-1,a,1,0],\n",
    "     [1,-1,a,0]])\n",
    "b.rref()"
   ]
  }
 ],
 "metadata": {
  "kernelspec": {
   "display_name": "Python 3",
   "language": "python",
   "name": "python3"
  },
  "language_info": {
   "codemirror_mode": {
    "name": "ipython",
    "version": 3
   },
   "file_extension": ".py",
   "mimetype": "text/x-python",
   "name": "python",
   "nbconvert_exporter": "python",
   "pygments_lexer": "ipython3",
   "version": "3.6.2"
  }
 },
 "nbformat": 4,
 "nbformat_minor": 2
}
